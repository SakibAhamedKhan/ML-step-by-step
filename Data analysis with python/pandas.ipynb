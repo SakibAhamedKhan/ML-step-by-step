{
 "cells": [
  {
   "cell_type": "markdown",
   "metadata": {},
   "source": [
    "Pandas - DataFrame And Series\n",
    "\n",
    "Pandas is a powerful data manipulation library in Python, widely used for data analysis and data cleaning."
   ]
  },
  {
   "cell_type": "code",
   "execution_count": 142,
   "metadata": {},
   "outputs": [],
   "source": [
    "import pandas as pd"
   ]
  },
  {
   "cell_type": "code",
   "execution_count": 143,
   "metadata": {},
   "outputs": [
    {
     "name": "stdout",
     "output_type": "stream",
     "text": [
      "Series \n",
      " 0    1\n",
      "1    2\n",
      "2    3\n",
      "3    4\n",
      "dtype: int64\n",
      "<class 'pandas.core.series.Series'>\n"
     ]
    }
   ],
   "source": [
    "## Series\n",
    "\n",
    "data = [1,2,3,4]\n",
    "series = pd.Series(data)\n",
    "print(\"Series \\n\", series)\n",
    "print(type(series))"
   ]
  },
  {
   "cell_type": "code",
   "execution_count": 144,
   "metadata": {},
   "outputs": [
    {
     "name": "stdout",
     "output_type": "stream",
     "text": [
      "a    1\n",
      "b    2\n",
      "c    3\n",
      "dtype: int64\n"
     ]
    }
   ],
   "source": [
    "## Create series from dictionary\n",
    "data = {'a':1, 'b':2, 'c':3}\n",
    "series_dict = pd.Series(data)\n",
    "print(series_dict)"
   ]
  },
  {
   "cell_type": "code",
   "execution_count": 145,
   "metadata": {},
   "outputs": [
    {
     "data": {
      "text/plain": [
       "a    10\n",
       "b    20\n",
       "c    30\n",
       "d    40\n",
       "dtype: int64"
      ]
     },
     "execution_count": 145,
     "metadata": {},
     "output_type": "execute_result"
    }
   ],
   "source": [
    "data = [10,20,30,40]\n",
    "index = ['a', 'b', 'c', 'd']\n",
    "pd.Series(data, index=index)"
   ]
  },
  {
   "cell_type": "markdown",
   "metadata": {},
   "source": [
    "## Dataframe"
   ]
  },
  {
   "cell_type": "code",
   "execution_count": 146,
   "metadata": {},
   "outputs": [
    {
     "name": "stdout",
     "output_type": "stream",
     "text": [
      "    Name  Age        City\n",
      "0  sakib   25  Chittagong\n",
      "1  rakib   28       Dhaka\n",
      "2  hasan   20    Rajshahi\n",
      "3   abir   23     Cumilla\n",
      "<class 'pandas.core.frame.DataFrame'>\n"
     ]
    }
   ],
   "source": [
    "## Dataframe\n",
    "## Create a Dataframe from a dictionary of list\n",
    "\n",
    "data = {\n",
    "    'Name': ['sakib', 'rakib', 'hasan', 'abir'],\n",
    "    'Age': [25, 28, 20, 23],\n",
    "    'City': [\"Chittagong\", \"Dhaka\", \"Rajshahi\", \"Cumilla\"]\n",
    "}\n",
    "\n",
    "df = pd.DataFrame(data)\n",
    "print(df)\n",
    "print(type(df))"
   ]
  },
  {
   "cell_type": "code",
   "execution_count": 147,
   "metadata": {},
   "outputs": [
    {
     "data": {
      "text/plain": [
       "array([['sakib', 25, 'Chittagong'],\n",
       "       ['rakib', 28, 'Dhaka'],\n",
       "       ['hasan', 20, 'Rajshahi'],\n",
       "       ['abir', 23, 'Cumilla']], dtype=object)"
      ]
     },
     "execution_count": 147,
     "metadata": {},
     "output_type": "execute_result"
    }
   ],
   "source": [
    "import numpy as np\n",
    "np.array(df)"
   ]
  },
  {
   "cell_type": "code",
   "execution_count": 148,
   "metadata": {},
   "outputs": [
    {
     "name": "stdout",
     "output_type": "stream",
     "text": [
      "                Name  Age        City\n",
      "0  Sakib Ahamed Khan   25  Chittagong\n",
      "1        Rakib Hasan   25       Dhaka\n",
      "2      Nazmul Shanto   25      Syhlet\n",
      "3       Robiul Islam   25     Cumilla\n",
      "4    Musficur Rahman   25    Rajshahi\n",
      "<class 'pandas.core.frame.DataFrame'>\n"
     ]
    }
   ],
   "source": [
    "## Create a Dataframe from a List of Dictionaries\n",
    "\n",
    "data = [\n",
    "    {'Name': \"Sakib Ahamed Khan\", 'Age': 25, 'City': \"Chittagong\"},\n",
    "    {'Name': \"Rakib Hasan\", 'Age': 25, 'City': \"Dhaka\"},\n",
    "    {'Name': \"Nazmul Shanto\", 'Age': 25, 'City': \"Syhlet\"},\n",
    "    {'Name': \"Robiul Islam\", 'Age': 25, 'City': \"Cumilla\"},\n",
    "    {'Name': \"Musficur Rahman\", 'Age': 25, 'City': \"Rajshahi\"},\n",
    "]\n",
    "df = pd.DataFrame(data)\n",
    "print(df)\n",
    "print(type(df))"
   ]
  },
  {
   "cell_type": "code",
   "execution_count": 149,
   "metadata": {},
   "outputs": [
    {
     "data": {
      "text/html": [
       "<div>\n",
       "<style scoped>\n",
       "    .dataframe tbody tr th:only-of-type {\n",
       "        vertical-align: middle;\n",
       "    }\n",
       "\n",
       "    .dataframe tbody tr th {\n",
       "        vertical-align: top;\n",
       "    }\n",
       "\n",
       "    .dataframe thead th {\n",
       "        text-align: right;\n",
       "    }\n",
       "</style>\n",
       "<table border=\"1\" class=\"dataframe\">\n",
       "  <thead>\n",
       "    <tr style=\"text-align: right;\">\n",
       "      <th></th>\n",
       "      <th>Transaction ID</th>\n",
       "      <th>Date</th>\n",
       "      <th>Product Category</th>\n",
       "      <th>Product Name</th>\n",
       "      <th>Units Sold</th>\n",
       "      <th>Unit Price</th>\n",
       "      <th>Total Revenue</th>\n",
       "      <th>Region</th>\n",
       "      <th>Payment Method</th>\n",
       "    </tr>\n",
       "  </thead>\n",
       "  <tbody>\n",
       "    <tr>\n",
       "      <th>0</th>\n",
       "      <td>10001</td>\n",
       "      <td>2024-01-01</td>\n",
       "      <td>Electronics</td>\n",
       "      <td>iPhone 14 Pro</td>\n",
       "      <td>2</td>\n",
       "      <td>999.99</td>\n",
       "      <td>1999.98</td>\n",
       "      <td>North America</td>\n",
       "      <td>Credit Card</td>\n",
       "    </tr>\n",
       "    <tr>\n",
       "      <th>1</th>\n",
       "      <td>10002</td>\n",
       "      <td>2024-01-02</td>\n",
       "      <td>Home Appliances</td>\n",
       "      <td>Dyson V11 Vacuum</td>\n",
       "      <td>1</td>\n",
       "      <td>499.99</td>\n",
       "      <td>499.99</td>\n",
       "      <td>Europe</td>\n",
       "      <td>PayPal</td>\n",
       "    </tr>\n",
       "    <tr>\n",
       "      <th>2</th>\n",
       "      <td>10003</td>\n",
       "      <td>2024-01-03</td>\n",
       "      <td>Clothing</td>\n",
       "      <td>Levi's 501 Jeans</td>\n",
       "      <td>3</td>\n",
       "      <td>69.99</td>\n",
       "      <td>209.97</td>\n",
       "      <td>Asia</td>\n",
       "      <td>Debit Card</td>\n",
       "    </tr>\n",
       "    <tr>\n",
       "      <th>3</th>\n",
       "      <td>10004</td>\n",
       "      <td>2024-01-04</td>\n",
       "      <td>Books</td>\n",
       "      <td>The Da Vinci Code</td>\n",
       "      <td>4</td>\n",
       "      <td>15.99</td>\n",
       "      <td>63.96</td>\n",
       "      <td>North America</td>\n",
       "      <td>Credit Card</td>\n",
       "    </tr>\n",
       "    <tr>\n",
       "      <th>4</th>\n",
       "      <td>10005</td>\n",
       "      <td>2024-01-05</td>\n",
       "      <td>Beauty Products</td>\n",
       "      <td>Neutrogena Skincare Set</td>\n",
       "      <td>1</td>\n",
       "      <td>89.99</td>\n",
       "      <td>89.99</td>\n",
       "      <td>Europe</td>\n",
       "      <td>PayPal</td>\n",
       "    </tr>\n",
       "  </tbody>\n",
       "</table>\n",
       "</div>"
      ],
      "text/plain": [
       "   Transaction ID        Date Product Category             Product Name  \\\n",
       "0           10001  2024-01-01      Electronics            iPhone 14 Pro   \n",
       "1           10002  2024-01-02  Home Appliances         Dyson V11 Vacuum   \n",
       "2           10003  2024-01-03         Clothing         Levi's 501 Jeans   \n",
       "3           10004  2024-01-04            Books        The Da Vinci Code   \n",
       "4           10005  2024-01-05  Beauty Products  Neutrogena Skincare Set   \n",
       "\n",
       "   Units Sold  Unit Price  Total Revenue         Region Payment Method  \n",
       "0           2      999.99        1999.98  North America    Credit Card  \n",
       "1           1      499.99         499.99         Europe         PayPal  \n",
       "2           3       69.99         209.97           Asia     Debit Card  \n",
       "3           4       15.99          63.96  North America    Credit Card  \n",
       "4           1       89.99          89.99         Europe         PayPal  "
      ]
     },
     "execution_count": 149,
     "metadata": {},
     "output_type": "execute_result"
    }
   ],
   "source": [
    "df1 = pd.read_csv('sales_data.csv')\n",
    "df1.head()"
   ]
  },
  {
   "cell_type": "code",
   "execution_count": 150,
   "metadata": {},
   "outputs": [
    {
     "data": {
      "text/html": [
       "<div>\n",
       "<style scoped>\n",
       "    .dataframe tbody tr th:only-of-type {\n",
       "        vertical-align: middle;\n",
       "    }\n",
       "\n",
       "    .dataframe tbody tr th {\n",
       "        vertical-align: top;\n",
       "    }\n",
       "\n",
       "    .dataframe thead th {\n",
       "        text-align: right;\n",
       "    }\n",
       "</style>\n",
       "<table border=\"1\" class=\"dataframe\">\n",
       "  <thead>\n",
       "    <tr style=\"text-align: right;\">\n",
       "      <th></th>\n",
       "      <th>Name</th>\n",
       "      <th>Age</th>\n",
       "      <th>City</th>\n",
       "    </tr>\n",
       "  </thead>\n",
       "  <tbody>\n",
       "    <tr>\n",
       "      <th>0</th>\n",
       "      <td>Sakib Ahamed Khan</td>\n",
       "      <td>25</td>\n",
       "      <td>Chittagong</td>\n",
       "    </tr>\n",
       "    <tr>\n",
       "      <th>1</th>\n",
       "      <td>Rakib Hasan</td>\n",
       "      <td>25</td>\n",
       "      <td>Dhaka</td>\n",
       "    </tr>\n",
       "    <tr>\n",
       "      <th>2</th>\n",
       "      <td>Nazmul Shanto</td>\n",
       "      <td>25</td>\n",
       "      <td>Syhlet</td>\n",
       "    </tr>\n",
       "    <tr>\n",
       "      <th>3</th>\n",
       "      <td>Robiul Islam</td>\n",
       "      <td>25</td>\n",
       "      <td>Cumilla</td>\n",
       "    </tr>\n",
       "    <tr>\n",
       "      <th>4</th>\n",
       "      <td>Musficur Rahman</td>\n",
       "      <td>25</td>\n",
       "      <td>Rajshahi</td>\n",
       "    </tr>\n",
       "  </tbody>\n",
       "</table>\n",
       "</div>"
      ],
      "text/plain": [
       "                Name  Age        City\n",
       "0  Sakib Ahamed Khan   25  Chittagong\n",
       "1        Rakib Hasan   25       Dhaka\n",
       "2      Nazmul Shanto   25      Syhlet\n",
       "3       Robiul Islam   25     Cumilla\n",
       "4    Musficur Rahman   25    Rajshahi"
      ]
     },
     "execution_count": 150,
     "metadata": {},
     "output_type": "execute_result"
    }
   ],
   "source": [
    "## Accessing Data from Dataframe\n",
    "df"
   ]
  },
  {
   "cell_type": "code",
   "execution_count": 151,
   "metadata": {},
   "outputs": [
    {
     "name": "stdout",
     "output_type": "stream",
     "text": [
      "0    Sakib Ahamed Khan\n",
      "1          Rakib Hasan\n",
      "2        Nazmul Shanto\n",
      "3         Robiul Islam\n",
      "4      Musficur Rahman\n",
      "Name: Name, dtype: object\n",
      "<class 'pandas.core.series.Series'>\n"
     ]
    }
   ],
   "source": [
    "print(df['Name'])\n",
    "print(type(df['Name']))"
   ]
  },
  {
   "cell_type": "code",
   "execution_count": 152,
   "metadata": {},
   "outputs": [
    {
     "name": "stderr",
     "output_type": "stream",
     "text": [
      "C:\\Users\\Sakib Ahamed Khan\\AppData\\Local\\Temp\\ipykernel_11480\\3480907954.py:2: FutureWarning: Series.__getitem__ treating keys as positions is deprecated. In a future version, integer keys will always be treated as labels (consistent with DataFrame behavior). To access a value by position, use `ser.iloc[pos]`\n",
      "  df.loc[1][0]\n"
     ]
    },
    {
     "data": {
      "text/plain": [
       "'Rakib Hasan'"
      ]
     },
     "execution_count": 152,
     "metadata": {},
     "output_type": "execute_result"
    }
   ],
   "source": [
    "df.loc[1] ## accessing row data\n",
    "df.loc[1][0]"
   ]
  },
  {
   "cell_type": "code",
   "execution_count": 153,
   "metadata": {},
   "outputs": [
    {
     "data": {
      "text/plain": [
       "Name    Rakib Hasan\n",
       "Age              25\n",
       "City          Dhaka\n",
       "Name: 1, dtype: object"
      ]
     },
     "execution_count": 153,
     "metadata": {},
     "output_type": "execute_result"
    }
   ],
   "source": [
    "df.iloc[1]"
   ]
  },
  {
   "cell_type": "code",
   "execution_count": 154,
   "metadata": {},
   "outputs": [
    {
     "name": "stdout",
     "output_type": "stream",
     "text": [
      "    A   B\n",
      "2  10  40\n",
      "3  20  50\n",
      "4  30  60\n",
      "A    30\n",
      "B    60\n",
      "Name: 4, dtype: int64\n",
      "A    10\n",
      "B    40\n",
      "Name: 2, dtype: int64\n"
     ]
    }
   ],
   "source": [
    "df3 = pd.DataFrame({\n",
    "    'A': [10, 20, 30],\n",
    "    'B': [40, 50, 60]\n",
    "}, index=[2, 3, 4])\n",
    "\n",
    "print(df3)\n",
    "print(df3.loc[4])\n",
    "print(df3.iloc[0])"
   ]
  },
  {
   "cell_type": "code",
   "execution_count": 155,
   "metadata": {},
   "outputs": [
    {
     "data": {
      "text/plain": [
       "0    Sakib Ahamed Khan\n",
       "1          Rakib Hasan\n",
       "2        Nazmul Shanto\n",
       "3         Robiul Islam\n",
       "4      Musficur Rahman\n",
       "Name: Name, dtype: object"
      ]
     },
     "execution_count": 155,
     "metadata": {},
     "output_type": "execute_result"
    }
   ],
   "source": [
    "## Accessing a specified element\n",
    "df['Name']"
   ]
  },
  {
   "cell_type": "code",
   "execution_count": 156,
   "metadata": {},
   "outputs": [
    {
     "data": {
      "text/plain": [
       "'Syhlet'"
      ]
     },
     "execution_count": 156,
     "metadata": {},
     "output_type": "execute_result"
    }
   ],
   "source": [
    "df.at[2, 'City']"
   ]
  },
  {
   "cell_type": "code",
   "execution_count": 157,
   "metadata": {},
   "outputs": [
    {
     "data": {
      "text/plain": [
       "'Nazmul Shanto'"
      ]
     },
     "execution_count": 157,
     "metadata": {},
     "output_type": "execute_result"
    }
   ],
   "source": [
    "## Accessing a specific element using iat\n",
    "df.iat[2, 0]"
   ]
  },
  {
   "cell_type": "code",
   "execution_count": 158,
   "metadata": {},
   "outputs": [
    {
     "data": {
      "text/html": [
       "<div>\n",
       "<style scoped>\n",
       "    .dataframe tbody tr th:only-of-type {\n",
       "        vertical-align: middle;\n",
       "    }\n",
       "\n",
       "    .dataframe tbody tr th {\n",
       "        vertical-align: top;\n",
       "    }\n",
       "\n",
       "    .dataframe thead th {\n",
       "        text-align: right;\n",
       "    }\n",
       "</style>\n",
       "<table border=\"1\" class=\"dataframe\">\n",
       "  <thead>\n",
       "    <tr style=\"text-align: right;\">\n",
       "      <th></th>\n",
       "      <th>Name</th>\n",
       "      <th>Age</th>\n",
       "      <th>City</th>\n",
       "    </tr>\n",
       "  </thead>\n",
       "  <tbody>\n",
       "    <tr>\n",
       "      <th>0</th>\n",
       "      <td>Sakib Ahamed Khan</td>\n",
       "      <td>25</td>\n",
       "      <td>Chittagong</td>\n",
       "    </tr>\n",
       "    <tr>\n",
       "      <th>1</th>\n",
       "      <td>Rakib Hasan</td>\n",
       "      <td>25</td>\n",
       "      <td>Dhaka</td>\n",
       "    </tr>\n",
       "    <tr>\n",
       "      <th>2</th>\n",
       "      <td>Nazmul Shanto</td>\n",
       "      <td>25</td>\n",
       "      <td>Syhlet</td>\n",
       "    </tr>\n",
       "    <tr>\n",
       "      <th>3</th>\n",
       "      <td>Robiul Islam</td>\n",
       "      <td>25</td>\n",
       "      <td>Cumilla</td>\n",
       "    </tr>\n",
       "    <tr>\n",
       "      <th>4</th>\n",
       "      <td>Musficur Rahman</td>\n",
       "      <td>25</td>\n",
       "      <td>Rajshahi</td>\n",
       "    </tr>\n",
       "  </tbody>\n",
       "</table>\n",
       "</div>"
      ],
      "text/plain": [
       "                Name  Age        City\n",
       "0  Sakib Ahamed Khan   25  Chittagong\n",
       "1        Rakib Hasan   25       Dhaka\n",
       "2      Nazmul Shanto   25      Syhlet\n",
       "3       Robiul Islam   25     Cumilla\n",
       "4    Musficur Rahman   25    Rajshahi"
      ]
     },
     "execution_count": 158,
     "metadata": {},
     "output_type": "execute_result"
    }
   ],
   "source": [
    "## Data Manipulation with Dataframe\n",
    "df"
   ]
  },
  {
   "cell_type": "code",
   "execution_count": 159,
   "metadata": {},
   "outputs": [
    {
     "data": {
      "text/html": [
       "<div>\n",
       "<style scoped>\n",
       "    .dataframe tbody tr th:only-of-type {\n",
       "        vertical-align: middle;\n",
       "    }\n",
       "\n",
       "    .dataframe tbody tr th {\n",
       "        vertical-align: top;\n",
       "    }\n",
       "\n",
       "    .dataframe thead th {\n",
       "        text-align: right;\n",
       "    }\n",
       "</style>\n",
       "<table border=\"1\" class=\"dataframe\">\n",
       "  <thead>\n",
       "    <tr style=\"text-align: right;\">\n",
       "      <th></th>\n",
       "      <th>Name</th>\n",
       "      <th>Age</th>\n",
       "      <th>City</th>\n",
       "      <th>Salary</th>\n",
       "    </tr>\n",
       "  </thead>\n",
       "  <tbody>\n",
       "    <tr>\n",
       "      <th>0</th>\n",
       "      <td>Sakib Ahamed Khan</td>\n",
       "      <td>25</td>\n",
       "      <td>Chittagong</td>\n",
       "      <td>10000000</td>\n",
       "    </tr>\n",
       "    <tr>\n",
       "      <th>1</th>\n",
       "      <td>Rakib Hasan</td>\n",
       "      <td>25</td>\n",
       "      <td>Dhaka</td>\n",
       "      <td>20000</td>\n",
       "    </tr>\n",
       "    <tr>\n",
       "      <th>2</th>\n",
       "      <td>Nazmul Shanto</td>\n",
       "      <td>25</td>\n",
       "      <td>Syhlet</td>\n",
       "      <td>30000</td>\n",
       "    </tr>\n",
       "    <tr>\n",
       "      <th>3</th>\n",
       "      <td>Robiul Islam</td>\n",
       "      <td>25</td>\n",
       "      <td>Cumilla</td>\n",
       "      <td>3000</td>\n",
       "    </tr>\n",
       "    <tr>\n",
       "      <th>4</th>\n",
       "      <td>Musficur Rahman</td>\n",
       "      <td>25</td>\n",
       "      <td>Rajshahi</td>\n",
       "      <td>40000</td>\n",
       "    </tr>\n",
       "  </tbody>\n",
       "</table>\n",
       "</div>"
      ],
      "text/plain": [
       "                Name  Age        City    Salary\n",
       "0  Sakib Ahamed Khan   25  Chittagong  10000000\n",
       "1        Rakib Hasan   25       Dhaka     20000\n",
       "2      Nazmul Shanto   25      Syhlet     30000\n",
       "3       Robiul Islam   25     Cumilla      3000\n",
       "4    Musficur Rahman   25    Rajshahi     40000"
      ]
     },
     "execution_count": 159,
     "metadata": {},
     "output_type": "execute_result"
    }
   ],
   "source": [
    "## Adding a column\n",
    "df['Salary']=[10000000,20000,30000,3000,40000]\n",
    "df"
   ]
  },
  {
   "cell_type": "code",
   "execution_count": 160,
   "metadata": {},
   "outputs": [
    {
     "data": {
      "text/html": [
       "<div>\n",
       "<style scoped>\n",
       "    .dataframe tbody tr th:only-of-type {\n",
       "        vertical-align: middle;\n",
       "    }\n",
       "\n",
       "    .dataframe tbody tr th {\n",
       "        vertical-align: top;\n",
       "    }\n",
       "\n",
       "    .dataframe thead th {\n",
       "        text-align: right;\n",
       "    }\n",
       "</style>\n",
       "<table border=\"1\" class=\"dataframe\">\n",
       "  <thead>\n",
       "    <tr style=\"text-align: right;\">\n",
       "      <th></th>\n",
       "      <th>Name</th>\n",
       "      <th>City</th>\n",
       "      <th>Salary</th>\n",
       "    </tr>\n",
       "  </thead>\n",
       "  <tbody>\n",
       "    <tr>\n",
       "      <th>0</th>\n",
       "      <td>Sakib Ahamed Khan</td>\n",
       "      <td>Chittagong</td>\n",
       "      <td>10000000</td>\n",
       "    </tr>\n",
       "    <tr>\n",
       "      <th>1</th>\n",
       "      <td>Rakib Hasan</td>\n",
       "      <td>Dhaka</td>\n",
       "      <td>20000</td>\n",
       "    </tr>\n",
       "    <tr>\n",
       "      <th>2</th>\n",
       "      <td>Nazmul Shanto</td>\n",
       "      <td>Syhlet</td>\n",
       "      <td>30000</td>\n",
       "    </tr>\n",
       "    <tr>\n",
       "      <th>3</th>\n",
       "      <td>Robiul Islam</td>\n",
       "      <td>Cumilla</td>\n",
       "      <td>3000</td>\n",
       "    </tr>\n",
       "    <tr>\n",
       "      <th>4</th>\n",
       "      <td>Musficur Rahman</td>\n",
       "      <td>Rajshahi</td>\n",
       "      <td>40000</td>\n",
       "    </tr>\n",
       "  </tbody>\n",
       "</table>\n",
       "</div>"
      ],
      "text/plain": [
       "                Name        City    Salary\n",
       "0  Sakib Ahamed Khan  Chittagong  10000000\n",
       "1        Rakib Hasan       Dhaka     20000\n",
       "2      Nazmul Shanto      Syhlet     30000\n",
       "3       Robiul Islam     Cumilla      3000\n",
       "4    Musficur Rahman    Rajshahi     40000"
      ]
     },
     "execution_count": 160,
     "metadata": {},
     "output_type": "execute_result"
    }
   ],
   "source": [
    "## Drop a column\n",
    "df.drop('Age',axis=1)  ## axis is bydefault 0 show it check row field, axis=1 check colum to drop\n",
    "## and also it not permanently droped"
   ]
  },
  {
   "cell_type": "code",
   "execution_count": 161,
   "metadata": {},
   "outputs": [
    {
     "data": {
      "text/html": [
       "<div>\n",
       "<style scoped>\n",
       "    .dataframe tbody tr th:only-of-type {\n",
       "        vertical-align: middle;\n",
       "    }\n",
       "\n",
       "    .dataframe tbody tr th {\n",
       "        vertical-align: top;\n",
       "    }\n",
       "\n",
       "    .dataframe thead th {\n",
       "        text-align: right;\n",
       "    }\n",
       "</style>\n",
       "<table border=\"1\" class=\"dataframe\">\n",
       "  <thead>\n",
       "    <tr style=\"text-align: right;\">\n",
       "      <th></th>\n",
       "      <th>Name</th>\n",
       "      <th>City</th>\n",
       "      <th>Salary</th>\n",
       "    </tr>\n",
       "  </thead>\n",
       "  <tbody>\n",
       "    <tr>\n",
       "      <th>0</th>\n",
       "      <td>Sakib Ahamed Khan</td>\n",
       "      <td>Chittagong</td>\n",
       "      <td>10000000</td>\n",
       "    </tr>\n",
       "    <tr>\n",
       "      <th>1</th>\n",
       "      <td>Rakib Hasan</td>\n",
       "      <td>Dhaka</td>\n",
       "      <td>20000</td>\n",
       "    </tr>\n",
       "    <tr>\n",
       "      <th>2</th>\n",
       "      <td>Nazmul Shanto</td>\n",
       "      <td>Syhlet</td>\n",
       "      <td>30000</td>\n",
       "    </tr>\n",
       "    <tr>\n",
       "      <th>3</th>\n",
       "      <td>Robiul Islam</td>\n",
       "      <td>Cumilla</td>\n",
       "      <td>3000</td>\n",
       "    </tr>\n",
       "    <tr>\n",
       "      <th>4</th>\n",
       "      <td>Musficur Rahman</td>\n",
       "      <td>Rajshahi</td>\n",
       "      <td>40000</td>\n",
       "    </tr>\n",
       "  </tbody>\n",
       "</table>\n",
       "</div>"
      ],
      "text/plain": [
       "                Name        City    Salary\n",
       "0  Sakib Ahamed Khan  Chittagong  10000000\n",
       "1        Rakib Hasan       Dhaka     20000\n",
       "2      Nazmul Shanto      Syhlet     30000\n",
       "3       Robiul Islam     Cumilla      3000\n",
       "4    Musficur Rahman    Rajshahi     40000"
      ]
     },
     "execution_count": 161,
     "metadata": {},
     "output_type": "execute_result"
    }
   ],
   "source": [
    "## Permanenty drop the Age column\n",
    "df.drop('Age',axis=1, inplace=True)\n",
    "df"
   ]
  },
  {
   "cell_type": "code",
   "execution_count": 162,
   "metadata": {},
   "outputs": [
    {
     "data": {
      "text/html": [
       "<div>\n",
       "<style scoped>\n",
       "    .dataframe tbody tr th:only-of-type {\n",
       "        vertical-align: middle;\n",
       "    }\n",
       "\n",
       "    .dataframe tbody tr th {\n",
       "        vertical-align: top;\n",
       "    }\n",
       "\n",
       "    .dataframe thead th {\n",
       "        text-align: right;\n",
       "    }\n",
       "</style>\n",
       "<table border=\"1\" class=\"dataframe\">\n",
       "  <thead>\n",
       "    <tr style=\"text-align: right;\">\n",
       "      <th></th>\n",
       "      <th>Name</th>\n",
       "      <th>City</th>\n",
       "      <th>Salary</th>\n",
       "    </tr>\n",
       "  </thead>\n",
       "  <tbody>\n",
       "    <tr>\n",
       "      <th>0</th>\n",
       "      <td>Sakib Ahamed Khan</td>\n",
       "      <td>Chittagong</td>\n",
       "      <td>10005000</td>\n",
       "    </tr>\n",
       "    <tr>\n",
       "      <th>1</th>\n",
       "      <td>Rakib Hasan</td>\n",
       "      <td>Dhaka</td>\n",
       "      <td>25000</td>\n",
       "    </tr>\n",
       "    <tr>\n",
       "      <th>2</th>\n",
       "      <td>Nazmul Shanto</td>\n",
       "      <td>Syhlet</td>\n",
       "      <td>35000</td>\n",
       "    </tr>\n",
       "    <tr>\n",
       "      <th>3</th>\n",
       "      <td>Robiul Islam</td>\n",
       "      <td>Cumilla</td>\n",
       "      <td>8000</td>\n",
       "    </tr>\n",
       "    <tr>\n",
       "      <th>4</th>\n",
       "      <td>Musficur Rahman</td>\n",
       "      <td>Rajshahi</td>\n",
       "      <td>45000</td>\n",
       "    </tr>\n",
       "  </tbody>\n",
       "</table>\n",
       "</div>"
      ],
      "text/plain": [
       "                Name        City    Salary\n",
       "0  Sakib Ahamed Khan  Chittagong  10005000\n",
       "1        Rakib Hasan       Dhaka     25000\n",
       "2      Nazmul Shanto      Syhlet     35000\n",
       "3       Robiul Islam     Cumilla      8000\n",
       "4    Musficur Rahman    Rajshahi     45000"
      ]
     },
     "execution_count": 162,
     "metadata": {},
     "output_type": "execute_result"
    }
   ],
   "source": [
    "## Add Salary to the column\n",
    "df['Salary']=df['Salary']+5000\n",
    "df"
   ]
  },
  {
   "cell_type": "code",
   "execution_count": 164,
   "metadata": {},
   "outputs": [
    {
     "data": {
      "text/html": [
       "<div>\n",
       "<style scoped>\n",
       "    .dataframe tbody tr th:only-of-type {\n",
       "        vertical-align: middle;\n",
       "    }\n",
       "\n",
       "    .dataframe tbody tr th {\n",
       "        vertical-align: top;\n",
       "    }\n",
       "\n",
       "    .dataframe thead th {\n",
       "        text-align: right;\n",
       "    }\n",
       "</style>\n",
       "<table border=\"1\" class=\"dataframe\">\n",
       "  <thead>\n",
       "    <tr style=\"text-align: right;\">\n",
       "      <th></th>\n",
       "      <th>Name</th>\n",
       "      <th>City</th>\n",
       "      <th>Salary</th>\n",
       "    </tr>\n",
       "  </thead>\n",
       "  <tbody>\n",
       "    <tr>\n",
       "      <th>0</th>\n",
       "      <td>Sakib Ahamed Khan</td>\n",
       "      <td>Chittagong</td>\n",
       "      <td>10005000</td>\n",
       "    </tr>\n",
       "    <tr>\n",
       "      <th>2</th>\n",
       "      <td>Nazmul Shanto</td>\n",
       "      <td>Syhlet</td>\n",
       "      <td>35000</td>\n",
       "    </tr>\n",
       "    <tr>\n",
       "      <th>3</th>\n",
       "      <td>Robiul Islam</td>\n",
       "      <td>Cumilla</td>\n",
       "      <td>8000</td>\n",
       "    </tr>\n",
       "    <tr>\n",
       "      <th>4</th>\n",
       "      <td>Musficur Rahman</td>\n",
       "      <td>Rajshahi</td>\n",
       "      <td>45000</td>\n",
       "    </tr>\n",
       "  </tbody>\n",
       "</table>\n",
       "</div>"
      ],
      "text/plain": [
       "                Name        City    Salary\n",
       "0  Sakib Ahamed Khan  Chittagong  10005000\n",
       "2      Nazmul Shanto      Syhlet     35000\n",
       "3       Robiul Islam     Cumilla      8000\n",
       "4    Musficur Rahman    Rajshahi     45000"
      ]
     },
     "execution_count": 164,
     "metadata": {},
     "output_type": "execute_result"
    }
   ],
   "source": [
    "## Drop by row\n",
    "df.drop(1) ## Drop by row and it is not permanently droped"
   ]
  },
  {
   "cell_type": "code",
   "execution_count": 165,
   "metadata": {},
   "outputs": [
    {
     "data": {
      "text/html": [
       "<div>\n",
       "<style scoped>\n",
       "    .dataframe tbody tr th:only-of-type {\n",
       "        vertical-align: middle;\n",
       "    }\n",
       "\n",
       "    .dataframe tbody tr th {\n",
       "        vertical-align: top;\n",
       "    }\n",
       "\n",
       "    .dataframe thead th {\n",
       "        text-align: right;\n",
       "    }\n",
       "</style>\n",
       "<table border=\"1\" class=\"dataframe\">\n",
       "  <thead>\n",
       "    <tr style=\"text-align: right;\">\n",
       "      <th></th>\n",
       "      <th>Name</th>\n",
       "      <th>City</th>\n",
       "      <th>Salary</th>\n",
       "    </tr>\n",
       "  </thead>\n",
       "  <tbody>\n",
       "    <tr>\n",
       "      <th>0</th>\n",
       "      <td>Sakib Ahamed Khan</td>\n",
       "      <td>Chittagong</td>\n",
       "      <td>10005000</td>\n",
       "    </tr>\n",
       "    <tr>\n",
       "      <th>2</th>\n",
       "      <td>Nazmul Shanto</td>\n",
       "      <td>Syhlet</td>\n",
       "      <td>35000</td>\n",
       "    </tr>\n",
       "    <tr>\n",
       "      <th>3</th>\n",
       "      <td>Robiul Islam</td>\n",
       "      <td>Cumilla</td>\n",
       "      <td>8000</td>\n",
       "    </tr>\n",
       "    <tr>\n",
       "      <th>4</th>\n",
       "      <td>Musficur Rahman</td>\n",
       "      <td>Rajshahi</td>\n",
       "      <td>45000</td>\n",
       "    </tr>\n",
       "  </tbody>\n",
       "</table>\n",
       "</div>"
      ],
      "text/plain": [
       "                Name        City    Salary\n",
       "0  Sakib Ahamed Khan  Chittagong  10005000\n",
       "2      Nazmul Shanto      Syhlet     35000\n",
       "3       Robiul Islam     Cumilla      8000\n",
       "4    Musficur Rahman    Rajshahi     45000"
      ]
     },
     "execution_count": 165,
     "metadata": {},
     "output_type": "execute_result"
    }
   ],
   "source": [
    "## Permanently Drop the row\n",
    "df.drop(1, inplace=True)\n",
    "df"
   ]
  },
  {
   "cell_type": "code",
   "execution_count": 167,
   "metadata": {},
   "outputs": [
    {
     "data": {
      "text/html": [
       "<div>\n",
       "<style scoped>\n",
       "    .dataframe tbody tr th:only-of-type {\n",
       "        vertical-align: middle;\n",
       "    }\n",
       "\n",
       "    .dataframe tbody tr th {\n",
       "        vertical-align: top;\n",
       "    }\n",
       "\n",
       "    .dataframe thead th {\n",
       "        text-align: right;\n",
       "    }\n",
       "</style>\n",
       "<table border=\"1\" class=\"dataframe\">\n",
       "  <thead>\n",
       "    <tr style=\"text-align: right;\">\n",
       "      <th></th>\n",
       "      <th>Transaction ID</th>\n",
       "      <th>Date</th>\n",
       "      <th>Product Category</th>\n",
       "      <th>Product Name</th>\n",
       "      <th>Units Sold</th>\n",
       "      <th>Unit Price</th>\n",
       "      <th>Total Revenue</th>\n",
       "      <th>Region</th>\n",
       "      <th>Payment Method</th>\n",
       "    </tr>\n",
       "  </thead>\n",
       "  <tbody>\n",
       "    <tr>\n",
       "      <th>0</th>\n",
       "      <td>10001</td>\n",
       "      <td>2024-01-01</td>\n",
       "      <td>Electronics</td>\n",
       "      <td>iPhone 14 Pro</td>\n",
       "      <td>2</td>\n",
       "      <td>999.99</td>\n",
       "      <td>1999.98</td>\n",
       "      <td>North America</td>\n",
       "      <td>Credit Card</td>\n",
       "    </tr>\n",
       "    <tr>\n",
       "      <th>1</th>\n",
       "      <td>10002</td>\n",
       "      <td>2024-01-02</td>\n",
       "      <td>Home Appliances</td>\n",
       "      <td>Dyson V11 Vacuum</td>\n",
       "      <td>1</td>\n",
       "      <td>499.99</td>\n",
       "      <td>499.99</td>\n",
       "      <td>Europe</td>\n",
       "      <td>PayPal</td>\n",
       "    </tr>\n",
       "    <tr>\n",
       "      <th>2</th>\n",
       "      <td>10003</td>\n",
       "      <td>2024-01-03</td>\n",
       "      <td>Clothing</td>\n",
       "      <td>Levi's 501 Jeans</td>\n",
       "      <td>3</td>\n",
       "      <td>69.99</td>\n",
       "      <td>209.97</td>\n",
       "      <td>Asia</td>\n",
       "      <td>Debit Card</td>\n",
       "    </tr>\n",
       "    <tr>\n",
       "      <th>3</th>\n",
       "      <td>10004</td>\n",
       "      <td>2024-01-04</td>\n",
       "      <td>Books</td>\n",
       "      <td>The Da Vinci Code</td>\n",
       "      <td>4</td>\n",
       "      <td>15.99</td>\n",
       "      <td>63.96</td>\n",
       "      <td>North America</td>\n",
       "      <td>Credit Card</td>\n",
       "    </tr>\n",
       "    <tr>\n",
       "      <th>4</th>\n",
       "      <td>10005</td>\n",
       "      <td>2024-01-05</td>\n",
       "      <td>Beauty Products</td>\n",
       "      <td>Neutrogena Skincare Set</td>\n",
       "      <td>1</td>\n",
       "      <td>89.99</td>\n",
       "      <td>89.99</td>\n",
       "      <td>Europe</td>\n",
       "      <td>PayPal</td>\n",
       "    </tr>\n",
       "  </tbody>\n",
       "</table>\n",
       "</div>"
      ],
      "text/plain": [
       "   Transaction ID        Date Product Category             Product Name  \\\n",
       "0           10001  2024-01-01      Electronics            iPhone 14 Pro   \n",
       "1           10002  2024-01-02  Home Appliances         Dyson V11 Vacuum   \n",
       "2           10003  2024-01-03         Clothing         Levi's 501 Jeans   \n",
       "3           10004  2024-01-04            Books        The Da Vinci Code   \n",
       "4           10005  2024-01-05  Beauty Products  Neutrogena Skincare Set   \n",
       "\n",
       "   Units Sold  Unit Price  Total Revenue         Region Payment Method  \n",
       "0           2      999.99        1999.98  North America    Credit Card  \n",
       "1           1      499.99         499.99         Europe         PayPal  \n",
       "2           3       69.99         209.97           Asia     Debit Card  \n",
       "3           4       15.99          63.96  North America    Credit Card  \n",
       "4           1       89.99          89.99         Europe         PayPal  "
      ]
     },
     "execution_count": 167,
     "metadata": {},
     "output_type": "execute_result"
    }
   ],
   "source": [
    "df1 = pd.read_csv('sales_data.csv')\n",
    "df1.head()"
   ]
  },
  {
   "cell_type": "code",
   "execution_count": null,
   "metadata": {},
   "outputs": [
    {
     "name": "stdout",
     "output_type": "stream",
     "text": [
      "Data types: \n",
      " Transaction ID        int64\n",
      "Date                 object\n",
      "Product Category     object\n",
      "Product Name         object\n",
      "Units Sold            int64\n",
      "Unit Price          float64\n",
      "Total Revenue       float64\n",
      "Region               object\n",
      "Payment Method       object\n",
      "dtype: object\n",
      "Statistical summary: \n",
      "        Transaction ID  Units Sold   Unit Price  Total Revenue\n",
      "count       240.00000  240.000000   240.000000     240.000000\n",
      "mean      10120.50000    2.158333   236.395583     335.699375\n",
      "std          69.42622    1.322454   429.446695     485.804469\n",
      "min       10001.00000    1.000000     6.500000       6.500000\n",
      "25%       10060.75000    1.000000    29.500000      62.965000\n",
      "50%       10120.50000    2.000000    89.990000     179.970000\n",
      "75%       10180.25000    3.000000   249.990000     399.225000\n",
      "max       10240.00000   10.000000  3899.990000    3899.990000\n"
     ]
    }
   ],
   "source": [
    "## Disply the data types of each column\n",
    "print(\"Data types: \\n\", df1.dtypes)\n",
    "\n",
    "# Describe the Dataframe\n",
    "print(\"Statistical summary: \\n\", df1.describe())\n",
    "\n"
   ]
  }
 ],
 "metadata": {
  "kernelspec": {
   "display_name": "Python 3",
   "language": "python",
   "name": "python3"
  },
  "language_info": {
   "codemirror_mode": {
    "name": "ipython",
    "version": 3
   },
   "file_extension": ".py",
   "mimetype": "text/x-python",
   "name": "python",
   "nbconvert_exporter": "python",
   "pygments_lexer": "ipython3",
   "version": "3.12.7"
  }
 },
 "nbformat": 4,
 "nbformat_minor": 2
}
